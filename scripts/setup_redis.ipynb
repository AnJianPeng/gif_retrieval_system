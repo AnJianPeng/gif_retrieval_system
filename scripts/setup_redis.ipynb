{
 "cells": [
  {
   "cell_type": "markdown",
   "metadata": {},
   "source": [
    "# Notebook used to set up Redis"
   ]
  },
  {
   "cell_type": "code",
   "execution_count": 1,
   "metadata": {},
   "outputs": [],
   "source": [
    "import requests\n",
    "from glob import glob\n",
    "import os.path as osp"
   ]
  },
  {
   "cell_type": "code",
   "execution_count": 2,
   "metadata": {},
   "outputs": [],
   "source": [
    "data_path = osp.join('..','data')"
   ]
  },
  {
   "cell_type": "markdown",
   "metadata": {},
   "source": [
    "## Image Relation"
   ]
  },
  {
   "cell_type": "code",
   "execution_count": 31,
   "metadata": {},
   "outputs": [],
   "source": [
    "csv_path = osp.join(data_path, 'csv')\n",
    "csv_files = glob(osp.join(csv_path, '*.csv'))\n",
    "endpoint = 'http://localhost:8000/retrieval/update_images'\n",
    "for csv_file in csv_files:\n",
    "    with open(csv_file, 'rb') as f:\n",
    "        requests.post(endpoint, files={'images.csv': f})"
   ]
  },
  {
   "cell_type": "markdown",
   "metadata": {},
   "source": [
    "## Fake Request"
   ]
  },
  {
   "cell_type": "code",
   "execution_count": 41,
   "metadata": {},
   "outputs": [],
   "source": [
    "png_file = osp.join(osp.join(data_path, 'boy'), '100018.gif')\n",
    "endpoint = 'http://localhost:8000/retrieval/sample_query'\n",
    "with open(png_file, 'rb') as f:\n",
    "    r = requests.post(endpoint, files={'query.gif': f})"
   ]
  },
  {
   "cell_type": "code",
   "execution_count": 42,
   "metadata": {},
   "outputs": [
    {
     "data": {
      "text/plain": [
       "[{'description': '',\n",
       "  'image_id': '100018',\n",
       "  'url': 'http://localhost:8000/static/100018.gif'},\n",
       " {'description': '',\n",
       "  'image_id': '2_45458',\n",
       "  'url': 'http://localhost:8000/static/2_45458.gif'},\n",
       " {'description': '',\n",
       "  'image_id': '2_100018',\n",
       "  'url': 'http://localhost:8000/static/2_100018.gif'},\n",
       " {'description': '',\n",
       "  'image_id': '45458',\n",
       "  'url': 'http://localhost:8000/static/45458.gif'},\n",
       " {'description': '',\n",
       "  'image_id': '2_46456',\n",
       "  'url': 'http://localhost:8000/static/2_46456.gif'},\n",
       " {'description': '',\n",
       "  'image_id': '2_27403',\n",
       "  'url': 'http://localhost:8000/static/2_27403.gif'},\n",
       " {'description': '',\n",
       "  'image_id': '53677',\n",
       "  'url': 'http://localhost:8000/static/53677.gif'},\n",
       " {'description': '',\n",
       "  'image_id': '18260',\n",
       "  'url': 'http://localhost:8000/static/18260.gif'},\n",
       " {'description': '',\n",
       "  'image_id': '2_23071',\n",
       "  'url': 'http://localhost:8000/static/2_23071.gif'},\n",
       " {'description': '',\n",
       "  'image_id': '2_101472',\n",
       "  'url': 'http://localhost:8000/static/2_101472.gif'}]"
      ]
     },
     "execution_count": 42,
     "metadata": {},
     "output_type": "execute_result"
    }
   ],
   "source": [
    "r.json()"
   ]
  },
  {
   "cell_type": "code",
   "execution_count": 14,
   "metadata": {},
   "outputs": [
    {
     "ename": "NameError",
     "evalue": "name 'doc' is not defined",
     "output_type": "error",
     "traceback": [
      "\u001b[0;31m---------------------------------------------------------------------------\u001b[0m",
      "\u001b[0;31mNameError\u001b[0m                                 Traceback (most recent call last)",
      "\u001b[0;32m<ipython-input-14-c21bc016279a>\u001b[0m in \u001b[0;36m<module>\u001b[0;34m()\u001b[0m\n\u001b[0;32m----> 1\u001b[0;31m \u001b[0mdoc\u001b[0m\u001b[0;34m[\u001b[0m\u001b[0;36m5\u001b[0m\u001b[0;34m]\u001b[0m\u001b[0;34m\u001b[0m\u001b[0m\n\u001b[0m",
      "\u001b[0;31mNameError\u001b[0m: name 'doc' is not defined"
     ]
    }
   ],
   "source": [
    "doc[5]"
   ]
  },
  {
   "cell_type": "code",
   "execution_count": null,
   "metadata": {},
   "outputs": [],
   "source": []
  }
 ],
 "metadata": {
  "kernelspec": {
   "display_name": "Python 3",
   "language": "python",
   "name": "python3"
  },
  "language_info": {
   "codemirror_mode": {
    "name": "ipython",
    "version": 3
   },
   "file_extension": ".py",
   "mimetype": "text/x-python",
   "name": "python",
   "nbconvert_exporter": "python",
   "pygments_lexer": "ipython3",
   "version": "3.5.6"
  },
  "widgets": {
   "state": {},
   "version": "1.1.2"
  }
 },
 "nbformat": 4,
 "nbformat_minor": 2
}
