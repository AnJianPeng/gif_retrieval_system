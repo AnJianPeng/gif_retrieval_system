{
 "cells": [
  {
   "cell_type": "markdown",
   "metadata": {},
   "source": [
    "# Preprocessing"
   ]
  },
  {
   "cell_type": "code",
   "execution_count": 33,
   "metadata": {},
   "outputs": [
    {
     "name": "stdout",
     "output_type": "stream",
     "text": [
      "The autoreload extension is already loaded. To reload it, use:\n",
      "  %reload_ext autoreload\n"
     ]
    }
   ],
   "source": [
    "%matplotlib inline\n",
    "%matplotlib notebook\n",
    "%load_ext autoreload\n",
    "%autoreload 2\n",
    "from download import main\n",
    "from glob import glob\n",
    "import matplotlib.pyplot as plt\n",
    "import pickle\n",
    "import numpy as np\n",
    "from sklearn.model_selection import train_test_split\n",
    "\n",
    "import os.path as osp\n",
    "import os\n",
    "\n",
    "from utils import *\n",
    "import src as sc"
   ]
  },
  {
   "cell_type": "code",
   "execution_count": 46,
   "metadata": {},
   "outputs": [],
   "source": [
    "data_path = osp.join('..','data')\n",
    "categories = ['boy', 'cat', 'car', 'dog', 'girl']\n",
    "limit_each_category = 500\n",
    "vocab_size = 200\n",
    "vocab_prefix = 'vocab.pkl'\n",
    "\n",
    "# load image paths\n",
    "category_paths = get_image_directories(data_path, categories)\n",
    "image_paths, image_labels = load_images_paths(limit_each_category, category_paths)"
   ]
  },
  {
   "cell_type": "markdown",
   "metadata": {},
   "source": [
    "## Augment data by cutting GIF"
   ]
  },
  {
   "cell_type": "code",
   "execution_count": 48,
   "metadata": {},
   "outputs": [
    {
     "name": "stdout",
     "output_type": "stream",
     "text": [
      "../data/boy/15965.gif\n",
      "../data/cat/24745.gif\n",
      "../data/cat/38884.gif\n",
      "../data/car/57632.gif\n",
      "../data/car/58187.gif\n",
      "../data/car/89949.gif\n",
      "../data/girl/2865.gif\n"
     ]
    }
   ],
   "source": [
    "interesting_bases = [2, 1.5]\n",
    "agument_path = osp.join(data_path, 'agument')\n",
    "for category_path in category_paths:\n",
    "    category = osp.split(category_path)[-1]\n",
    "    cur_path = osp.join(agument_path, category)\n",
    "    \n",
    "    # create the path if not exist\n",
    "    if not osp.exists(cur_path):\n",
    "        os.makedirs(cur_path)\n",
    "            \n",
    "    image_paths, image_labels = load_images_paths(limit_each_category, [category_path])\n",
    "    for image_path in image_paths:\n",
    "        try:\n",
    "            frames = load_gif(image_path)\n",
    "        except TypeError:\n",
    "            print(image_path)\n",
    "            continue\n",
    "        for base in interesting_bases:\n",
    "            image_name = str(base) + '_' + osp.split(image_path)[-1]\n",
    "            start = int(len(frames) // base)\n",
    "            frames[start].save(osp.join(cur_path, image_name), save_all=True, append_images=frames[start+1:])"
   ]
  },
  {
   "cell_type": "code",
   "execution_count": null,
   "metadata": {},
   "outputs": [],
   "source": []
  }
 ],
 "metadata": {
  "kernelspec": {
   "display_name": "Python 3",
   "language": "python",
   "name": "python3"
  },
  "language_info": {
   "codemirror_mode": {
    "name": "ipython",
    "version": 3
   },
   "file_extension": ".py",
   "mimetype": "text/x-python",
   "name": "python",
   "nbconvert_exporter": "python",
   "pygments_lexer": "ipython3",
   "version": "3.5.6"
  },
  "widgets": {
   "state": {},
   "version": "1.1.2"
  }
 },
 "nbformat": 4,
 "nbformat_minor": 2
}
